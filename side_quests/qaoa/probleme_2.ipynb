{
 "cells": [
  {
   "metadata": {},
   "cell_type": "markdown",
   "source": [
    "# Problem 2 : Partitionning the Bus Fleet\n",
    "\n",
    "In part 1, you were able to solve the simple MaxCut problem. Let's spice things up a bit by taking more information into account!\n",
    "\n",
    "## Problem Statement\n",
    "> The STS wishes to add 5 buses each serving a different line, to accomodate the growing need felt by users for the morning departures of 08:00 am and 08:30. Given that some bus lines intersect, we want to organize the buses into 2 groups. Ideally, we want the buses serving the same stops to depart at different times as much as possible.\n",
    "\n",
    "### Supplementary Information\n",
    "In this problem, all bus line intertsections are not equal.\n",
    "An **intersecting weight** is specified, corresponding to the number of common edges between two bus lines. This translates the fact that some bus lines have more stops in common than other and thus, partionning them into different groups takes priority.\n",
    "\n",
    "The following table summarizes the intersection weights for each bus line (i.e. the number of edges in common between each pair of bus lines):\n",
    "\n",
    "<p align=\"center\">\n",
    "<img src=\"figures/table_prob2_ENG.png\" alt=\"prob2\" width=\"500\"/>\n",
    "</p>\n",
    "\n",
    "**A larger weight** means that two bus lines shares a higher number of edges.\n",
    "\n",
    "## Goal\n",
    "Your goal is to **minimize the sum of intersection weights** in each departure group. In other words, you want to divide the departure lines sharing many stops.\n",
    "\n",
    "### How : You need to\n",
    "- encode the problem into a `SparsePauliOp` Hamiltonian\n",
    "- optimize the parameters of your QAOA circuit\n",
    "- select a good set of hyperparameters (number of layers, optimizer, ...)\n",
    "\n",
    "#### Evaluation : You must\n",
    "- Show a mentor that you were able to run your code correctly (showing cell outputs is sufficient)\n",
    "- Show the optimal solutions you identified for this problem"
   ]
  },
  {
   "metadata": {
    "ExecuteTime": {
     "end_time": "2025-06-20T06:03:24.689711Z",
     "start_time": "2025-06-20T06:03:23.580439Z"
    }
   },
   "cell_type": "code",
   "source": [
    "# Instanciate your Hamiltonian\n",
    "# Visualization of the problem graph\n",
    "import matplotlib.pyplot as plt\n",
    "import networkx as nx\n",
    "\n",
    "# Matricial computation and calssical optimization\n",
    "import numpy as np\n",
    "from scipy.optimize import minimize\n",
    "\n",
    "# Creation of quantum circuits\n",
    "from qiskit import QuantumCircuit\n",
    "\n",
    "# Structure used to build Hamiltonians\n",
    "from qiskit.quantum_info import SparsePauliOp\n",
    "\n",
    "# Method used to create QAOA circuits to optimize\n",
    "from qiskit.circuit.library import QAOAAnsatz\n",
    "\n",
    "# Tools used for the execution of quantum circuits\n",
    "from qiskit_ibm_runtime import QiskitRuntimeService\n",
    "from qiskit_ibm_runtime import EstimatorV2 as Estimator\n",
    "from qiskit_ibm_runtime import SamplerV2 as Sampler\n",
    "\n",
    "# Transpilation of quantum circuits on IBM's simulators and quantum computers\n",
    "from qiskit.transpiler.preset_passmanagers import generate_preset_pass_manager\n",
    "\n",
    "# Quantum computer simulator\n",
    "from qiskit_aer import AerSimulator\n",
    "\n",
    "# Simulators of existing quantum computers\n",
    "from qiskit_ibm_runtime.fake_provider import FakeNairobiV2  # , FakeQuebec\n",
    "\n",
    "# Visualization of probablity distributions\n",
    "from qiskit.visualization import plot_histogram\n",
    "\n",
    "# Instantiate a SparsePauliOp as a sum of Pauli strings each mutliplied by a specific coefficient (here 1).\n",
    "H = SparsePauliOp.from_list(\n",
    "    [(\"IIIZZ\", 10.0), (\"IIZZI\", 11.0), (\"IZZII\", 8.0), (\"IZIIZ\", 11.0), (\"ZIIIZ\", 13.0), (\"ZIIZI\", 10.0)]\n",
    ")\n",
    "#Display the SparsePauliOp\n",
    "print(H)"
   ],
   "outputs": [
    {
     "name": "stdout",
     "output_type": "stream",
     "text": [
      "SparsePauliOp(['IIIZZ', 'IIZZI', 'IZZII', 'IZIIZ', 'ZIIIZ', 'ZIIZI'],\n",
      "              coeffs=[10.+0.j, 11.+0.j,  8.+0.j, 11.+0.j, 13.+0.j, 10.+0.j])\n"
     ]
    }
   ],
   "execution_count": 1
  },
  {
   "metadata": {
    "ExecuteTime": {
     "end_time": "2025-06-20T06:03:28.377077Z",
     "start_time": "2025-06-20T06:03:28.372033Z"
    }
   },
   "cell_type": "code",
   "source": [
    "def compute_exact_sol(hamiltonian: SparsePauliOp) -> tuple[float, list[str]]:\n",
    "    \"\"\" Classical computation of the inputted Hamiltonian's solutions.\n",
    "        Done by diagonalizing the Hamiltonian's matrix representation.\n",
    "\n",
    "    Args:\n",
    "        Hamiltonian (SparsePauliOp): Hamiltonian to diagonalize, expressed as a sum of Pauli strings.\n",
    "\n",
    "    Returns:\n",
    "        tuple[float, list[str]]:\n",
    "            - minimal cost obtained (float)\n",
    "            - List of the binary solutions associated to the minimal cost\n",
    "    \"\"\"\n",
    "    # Write the Hamiltonian as a matrix\n",
    "    mat_hamiltonian = np.array(hamiltonian.to_matrix())\n",
    "    # Diagonalize the matrix to extract the eigenvectors and eigenvalues\n",
    "    eigenvalues, eigenvects = np.linalg.eig(mat_hamiltonian)\n",
    "\n",
    "    # Indices associated to the minimal eigenvalues\n",
    "    min_eigenval = np.where(eigenvalues == np.min(eigenvalues))[0]\n",
    "    # Minimal solutions associated to the minimal eigenvalues\n",
    "    binary_sols = [bin(idx).lstrip(\"-0b\").zfill(hamiltonian.num_qubits) for idx in min_eigenval]\n",
    "\n",
    "    # Cost and binary strings of the best solutions\n",
    "    return eigenvalues[min_eigenval][0].real, binary_sols"
   ],
   "outputs": [],
   "execution_count": 2
  },
  {
   "metadata": {
    "ExecuteTime": {
     "end_time": "2025-06-20T06:08:36.043442Z",
     "start_time": "2025-06-20T06:08:36.034624Z"
    }
   },
   "cell_type": "code",
   "source": [
    "# Check if the Hamiltonian we found gives the expected solution\n",
    "minimal_cost, binary_sols = compute_exact_sol(hamiltonian=H)\n",
    "\n",
    "# Display the minimal cost we obtained\n",
    "print(\"Minimal cost : \", minimal_cost)\n",
    "# Display the binary solutions (read right to left, from qubit 0 to qubit 4)\n",
    "for i, sol in enumerate(binary_sols):\n",
    "    print(\"Minimal cost solution {idx} : {solution}\".format(idx=i, solution=sol))"
   ],
   "outputs": [
    {
     "name": "stdout",
     "output_type": "stream",
     "text": [
      "Minimal cost :  -43.0\n",
      "Minimal cost solution 0 : 00101\n",
      "Minimal cost solution 1 : 11010\n"
     ]
    }
   ],
   "execution_count": 15
  },
  {
   "metadata": {
    "ExecuteTime": {
     "end_time": "2025-06-20T06:09:54.085185Z",
     "start_time": "2025-06-20T06:09:53.997506Z"
    }
   },
   "cell_type": "code",
   "source": [
    "# Instanciate your QAOA circuit\n",
    "\n",
    "# Identify the number of layers (repetitions) for QAOA\n",
    "nb_layers = 12  # Modifier comme il vous plait\n",
    "\n",
    "# Instantiate the QAOA circuit with Qiskit's implementation\n",
    "circuit_qaoa = QAOAAnsatz(H, reps=nb_layers)\n",
    "\n",
    "# Display the QAOA circuit if you want :-)\n",
    "circuit_qaoa.decompose(reps=1).draw(output=\"mpl\", style=\"iqp\")\n",
    "\n",
    "# Define a simulator to compute average values\n",
    "backend = AerSimulator()  # Can be changed for different simulators or a real quantum backend, if desired\n",
    "estimator = Estimator(mode=backend)\n",
    "\n",
    "# Define a transpilation tool needed by Qiskit to run the simulation.\n",
    "pm = generate_preset_pass_manager(backend=backend, optimization_level=1)\n",
    "\n",
    "# Define the classical cost function to optimize\n",
    "def cost_function(\n",
    "    params: list[complex], estimator: Estimator, circuit: QuantumCircuit, hamiltonian: SparsePauliOp\n",
    ") -> float:\n",
    "    \"\"\"\n",
    "    Cost function that computes the average value of an observable ('hamiltonian') for a given state ('circuit').\n",
    "    This average value represents the cost function described by the input Hamiltonian. Also, the\n",
    "    parametrized circuit and its parameters are defined in the 'params' vector.\n",
    "    Everything is evaluated by the estimator.\n",
    "\n",
    "    Args:\n",
    "        params (list[complex]): List of parameters to be inserted in 'circuit'.\n",
    "        estimator (Estimator): Estimates the desired average values.\n",
    "        circuit (QuantumCircuit): QAOA's parametrized circuit.\n",
    "        hamiltonian (SparsePauliOp): Observable associated to the problem's cost function\n",
    "\n",
    "    Returns:\n",
    "        float: Cost associated to the input parameters.\n",
    "    \"\"\"\n",
    "    isa_psi = pm.run(circuit)\n",
    "    isa_observables = hamiltonian.apply_layout(isa_psi.layout)\n",
    "\n",
    "    job = estimator.run([(isa_psi, isa_observables, params)])\n",
    "    cost = job.result()[0].data.evs\n",
    "    return cost"
   ],
   "outputs": [],
   "execution_count": 23
  },
  {
   "metadata": {
    "ExecuteTime": {
     "end_time": "2025-06-20T06:11:01.282995Z",
     "start_time": "2025-06-20T06:10:51.166695Z"
    }
   },
   "cell_type": "code",
   "source": [
    "# Hyperparameter optimisation\n",
    "# QAOA circuit parameter initialization\n",
    "from numpy.random import uniform\n",
    "\n",
    "params_init = uniform(low=0.0, high=2, size=circuit_qaoa.num_parameters)\n",
    "# params_init = [0.4134043, 0.34267105, 1.38070479, 1.09906479, 0.25739551, 1.4308984, 0.83422103, 0.09118031, 0.24577291, 0.67973168, 0.90838367, 0.92371439, 0.50135628, 1.14308567, 0.53890326, 0.00912959]\n",
    "\n",
    "# Classical optimization of QAOA circuit using Scipy\n",
    "res_opt = minimize(cost_function, params_init, args=(estimator, circuit_qaoa, H), method=\"COBYLA\", options={\"tol\": 1e-14})\n",
    "\n",
    "# Information extraction following optimization\n",
    "cost_opt = res_opt.fun  # Optimal cost evaluated\n",
    "params_opt = res_opt.x  # Optimal parameters evaluated\n",
    "\n",
    "# Displaying the results\n",
    "print(\"Optimal cost found :\", cost_opt)\n",
    "print(\"Optimal parameters found :\", params_opt)"
   ],
   "outputs": [
    {
     "name": "stdout",
     "output_type": "stream",
     "text": [
      "Optimal cost found : -33.88134765625\n",
      "Optimal parameters found : [2.81633522 0.971808   1.74557385 1.59429468 0.63479013 1.27964066\n",
      " 1.85890187 1.36336386 1.88574903 1.41138712 1.2375204  1.20123311\n",
      " 1.77929359 1.234303   1.20719601 1.61061836 1.55467347 0.78164037\n",
      " 1.72842719 1.58631066 1.73691376 1.71976112 0.09709836 1.77614167]\n"
     ]
    }
   ],
   "execution_count": 28
  },
  {
   "metadata": {
    "ExecuteTime": {
     "end_time": "2025-06-20T06:11:03.908998Z",
     "start_time": "2025-06-20T06:11:03.801953Z"
    }
   },
   "cell_type": "code",
   "source": [
    "# Result analysis and identified solutions\n",
    "\n",
    "# Instantiate a Sampler to obtain a probability distribution\n",
    "sampler = Sampler(mode=backend)\n",
    "\n",
    "# Compute the probability distribution with the optimal parameters that you found previously\n",
    "circuit_qaoa_copy = circuit_qaoa.decompose(reps=2).copy()\n",
    "circuit_qaoa_copy.measure_all()\n",
    "circuit_qaoa_copy.draw()\n",
    "counts = sampler.run([(circuit_qaoa_copy, params_opt)]).result()[0].data.meas.get_counts()\n",
    "# Display the probability distribution\n",
    "plot_histogram(counts)"
   ],
   "outputs": [
    {
     "data": {
      "text/plain": [
       "<Figure size 640x480 with 1 Axes>"
      ],
      "image/png": "[encoded data removed]"
     },
     "execution_count": 29,
     "metadata": {},
     "output_type": "execute_result"
    }
   ],
   "execution_count": 29
  },
  {
   "metadata": {},
   "cell_type": "code",
   "outputs": [],
   "execution_count": null,
   "source": [
    "#[1.12329739 2.31021697 1.05394728 0.99816572 0.21383458 1.35605199\n",
    "# 0.29191542 0.37734799 1.8972656  1.27691367 0.82732549 1.20991456\n",
    "# 1.06195385 0.28124358 1.36881029 0.10585668]"
   ]
  }
 ],
 "metadata": {
  "kernelspec": {
   "display_name": "test1_codefest2025_venv",
   "language": "python",
   "name": "python3"
  },
  "language_info": {
   "codemirror_mode": {
    "name": "ipython",
    "version": 3
   },
   "file_extension": ".py",
   "mimetype": "text/x-python",
   "name": "python",
   "nbconvert_exporter": "python",
   "pygments_lexer": "ipython3",
   "version": "3.12.2"
  }
 },
 "nbformat": 4,
 "nbformat_minor": 2
}
