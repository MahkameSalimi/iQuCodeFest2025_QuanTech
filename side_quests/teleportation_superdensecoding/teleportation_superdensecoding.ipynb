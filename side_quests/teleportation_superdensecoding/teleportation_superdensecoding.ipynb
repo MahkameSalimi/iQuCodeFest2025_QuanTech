{
 "cells": [
  {
   "cell_type": "markdown",
   "metadata": {},
   "source": [
    "# Entanglement\n",
    "\n",
    "**Superdense coding** and **Teleportation** are two quantum protocols, that are making use of entanglement to send and receive classical and quantum information, respectively. It is worth reviewing or discovering this phenomenon unique to quantum mechanics!\n",
    "\n",
    "## Presentation\n",
    "Entanglement arises in multiqubit systems.\n",
    "\n",
    "Two qubits are said to be entangled if their combined state cannot be written as the tensor product of two one-qubit states.\n",
    "\n",
    "__Example__:\n",
    "\n",
    "1. $|\\phi\\rangle = \\frac{1}{2}\\left( |00\\rangle + |01\\rangle + |10\\rangle + |11\\rangle\\right) = \\left( \\frac{1}{\\sqrt{2}} \\left(0\\rangle+ |1\\rangle\\right) \\right)\\otimes \\left(\\frac{1}{\\sqrt{2}}\\left(|0\\rangle + |1\\rangle\\right)\\right)$\n",
    "\n",
    "2. $|\\Phi^{+}\\rangle = \\frac{1}{\\sqrt{2}}\\left( |00\\rangle +|11\\rangle \\right)$\n",
    "\n",
    "State $|\\phi\\rangle$ is separable as it can be rewritten as the tensor product of the individual qubits' state.\n",
    "\n",
    "In opposition, state $|\\Phi^{+}\\rangle$ is an entangled state as it cannot be rewritten as a tensor product of the individual qubits' states.<br>\n",
    "One must think of these two qubits as one singular system of its own!<br>\n",
    "\n",
    "Actually, $|\\Phi^{+}\\rangle$ is one of the 4 maximally entangled 2-qubit states called the Bell states.\n",
    "\n",
    "## Bell states\n",
    "The Bell states are 2-qubit quantum states that are the simplest examples of entangled states.\n",
    "The four Bell states are:\n",
    "- $|\\Phi^{+}\\rangle = \\frac{1}{\\sqrt{2}}\\left( |00\\rangle +|11\\rangle \\right)$\n",
    "- $|\\Phi^{-}\\rangle = \\frac{1}{\\sqrt{2}}\\left( |00\\rangle -|11\\rangle \\right)$\n",
    "- $|\\Psi^{+}\\rangle = \\frac{1}{\\sqrt{2}}\\left( |01\\rangle +|10\\rangle \\right)$\n",
    "- $|\\Psi^{-}\\rangle = \\frac{1}{\\sqrt{2}}\\left( |01\\rangle -|10\\rangle \\right)$\n",
    "\n",
    "Notice how the measurement of one qubit is correlated to the measurement of the second qubit in all the states present in the superpositions of each Bell states.\n",
    "\n",
    "In an entangled state, the information between qubits is shared in a way that the measurement results of individual qubits are correlated.\n",
    "\n",
    "We can generate the Bell states using a Hadamard gate, a CNOT gate, and some more one-qubit gates.<br>\n",
    "\n",
    "Run the example below to generate $|\\Phi^{+}\\rangle$"
   ]
  },
  {
   "cell_type": "code",
   "metadata": {
    "ExecuteTime": {
     "end_time": "2025-06-20T06:16:01.288318Z",
     "start_time": "2025-06-20T06:16:00.749636Z"
    }
   },
   "source": [
    "# Generate the \"Phi +\" Bell state\n",
    "from qiskit import QuantumCircuit\n",
    "from qiskit.quantum_info import Statevector\n",
    "\n",
    "qc = QuantumCircuit(2)\n",
    "qc.h(0)\n",
    "qc.cx(control_qubit=0, target_qubit=1)\n",
    "qc.draw(\"mpl\")"
   ],
   "outputs": [
    {
     "data": {
      "text/plain": [
       "<Figure size 287.294x200.667 with 1 Axes>"
      ],
      "image/png": "[encoded data removed]"
     },
     "execution_count": 1,
     "metadata": {},
     "output_type": "execute_result"
    }
   ],
   "execution_count": 1
  },
  {
   "cell_type": "code",
   "metadata": {
    "ExecuteTime": {
     "end_time": "2025-06-20T06:16:10.057570Z",
     "start_time": "2025-06-20T06:16:09.822176Z"
    }
   },
   "source": [
    "sv = Statevector(qc)\n",
    "str = sv.draw('latex')\n",
    "print(\"The statevector at the end of the circuit is:\")\n",
    "sv.draw('latex')\n",
    "\n",
    "# If the Bell states are new to you, you should try\n",
    "# to generate the 3 other Bell states as an exercise!"
   ],
   "outputs": [
    {
     "name": "stdout",
     "output_type": "stream",
     "text": [
      "The statevector at the end of the circuit is:\n"
     ]
    },
    {
     "data": {
      "text/plain": [
       "<IPython.core.display.Latex object>"
      ],
      "text/latex": "$$\\frac{\\sqrt{2}}{2} |00\\rangle+\\frac{\\sqrt{2}}{2} |11\\rangle$$"
     },
     "execution_count": 2,
     "metadata": {},
     "output_type": "execute_result"
    }
   ],
   "execution_count": 2
  },
  {
   "cell_type": "markdown",
   "metadata": {},
   "source": [
    "# Superdense coding\n",
    "\n",
    "## Presentation\n",
    "\n",
    "Superdense coding is a quantum communication protocol that enables two people to exchange bits of classical information using a fewer number of qubits, granted the two parties shared a pair of entangled qubits beforehand.\n",
    "\n",
    "In a sense, superdense coding can be thought as the opposite of quantum teleportation, but we will touch on that in due time!\n",
    "\n",
    "## Protocol\n",
    "Let's say that Alice and Bob are the two parties who want to exchange a message using superdense coding. To do so, they will have to go through these steps:\n",
    "\n",
    "### 1. Preparation of the entangled pair of qubits\n",
    "First, they have to generate a pair of entangled qubits, say the Bell state $|\\Psi^+\\rangle = \\frac{1}{\\sqrt{2}}(|0\\rangle_A |0\\rangle_B + |1\\rangle_A |1\\rangle_B)$.\n",
    "\n",
    "### 2. Sharing the entangled qubits\n",
    "Alice and Bob, each take one entangled qubit, and travel to a different location.\n",
    "\n",
    "### 3. Alice encodes a message made of classical bits\n",
    "Alice can encode a message using two classical bits.<br>\n",
    "In other words, she can encode 4 messages: \"00\", \"01\", \"10\" and \"11\".\n",
    "\n",
    "She needs to apply a different set of quantum gates on her entangled qubit depending on which message she wants to send to Bob:\n",
    "- If she wants to send \"00\", she applies the identity operation\n",
    "- If she wants to send \"01\", she needs to apply the X gate to her qubit\n",
    "- If she wants to send \"10\", she needs to apply the Z gate to her qubit\n",
    "- If she wants to send \"11\", she needs to apply the X gate, then the Z gate to her qubit\n",
    "\n",
    "**Note**: In fact, Alice is applying gates to her entangled qubit to change the whole entangled system (i.e. the system composed of her qubit and Bob's!) into one of the 4 Bell states.\n",
    "\n",
    "### 4. Alice sends her entangled qubit to Bob\n",
    "Just like the title says, one qubit is transmitted to Bob.\n",
    "\n",
    "### 5. Bob decodes Alice's message\n",
    "In order to decode Alice's message (i.e. recover the classical bits), he needs to apply a CNOT gate on his qubit using Alice's qubit as control, then he needs to apply a Hadamard gate on Alice's qubit.\n",
    "\n",
    "**Note**: Bob is actually taking a Bell measurement: he uses a circuit that maps the Bell pairs to the 4 basis states of a 2-qubit system, namely $|00\\rangle, |01\\rangle, |10\\rangle$ and $|11\\rangle$.\n",
    "\n",
    "Finally, Bob measures his qubit then Alice's qubit (i.e. he measures the 2-qubit state $|q_A q_B\\rangle$) and decodes the message.\n",
    "\n",
    "## Challenge\n",
    "We ask you to:\n",
    "- Implement the superdense coding protocol described above\n",
    "\n",
    "- Show that your able to send and decode messages correctly\n",
    "\n",
    "- (Bonus) Implement superdense coding on a real quantum computer"
   ]
  },
  {
   "cell_type": "code",
   "metadata": {
    "ExecuteTime": {
     "end_time": "2025-06-20T13:16:06.915993Z",
     "start_time": "2025-06-20T13:16:06.889707Z"
    }
   },
   "source": [
    "from qiskit import QuantumCircuit, QuantumRegister, ClassicalRegister\n",
    "from qiskit.providers.basic_provider import BasicSimulator\n",
    "from qiskit import transpile\n",
    "from qiskit.visualization import plot_histogram\n",
    "import numpy as np"
   ],
   "outputs": [],
   "execution_count": 3
  },
  {
   "cell_type": "code",
   "metadata": {
    "ExecuteTime": {
     "end_time": "2025-06-20T13:16:08.538614Z",
     "start_time": "2025-06-20T13:16:08.529152Z"
    }
   },
   "source": [
    "# Now, it's up to you!\n",
    "\n",
    "def prepare_entangled_qubits() -> QuantumCircuit:\n",
    "    \"\"\" Creates an entangled pair of qubits.\n",
    "    q0 = Bob's qubit\n",
    "    q1 = Alice's qubit\n",
    "    \"\"\"\n",
    "    # TODO\n",
    "    # Generate the \"Phi +\" Bell state\n",
    "    qc = QuantumCircuit(2)\n",
    "    qc.h(1)\n",
    "    qc.cx(control_qubit=1, target_qubit=0)\n",
    "\n",
    "    return qc\n",
    "\n",
    "def alice_encodes_her_qubit(message: str) -> QuantumCircuit:\n",
    "    \"\"\"\"\n",
    "    Alice receives her qubit and encodes her message.\n",
    "    - If the message is \"00\", she applies identity\n",
    "    - If the message is \"01\", she applies X\n",
    "    - If the message is \"10\", she applies Z\n",
    "    - If the message is \"11\", she applies X, then Z\n",
    "    \"\"\"\n",
    "    # TODO\n",
    "    qc = QuantumCircuit(1)\n",
    "    if message == \"00\":\n",
    "        pass\n",
    "    elif message == \"01\":\n",
    "        qc.x(0)\n",
    "    elif message == \"10\":\n",
    "        qc.z(0)\n",
    "    elif message == \"11\":\n",
    "        qc.x(0)\n",
    "        qc.z(0)\n",
    "    else:\n",
    "        raise ValueError(\"Message must be one of: '00', '01', '10', '11'\")\n",
    "\n",
    "    return qc\n",
    "\n",
    "def bob_decodes_the_message() -> QuantumCircuit:\n",
    "    \"\"\"\n",
    "    Bob received his qubit, and travelled somewhere remote.\n",
    "    Eventually, he receives Alice's qubit and decodes her message.\n",
    "    q0 = Bob's qubit\n",
    "    q1 = Alice's qubit\n",
    "    \"\"\"\n",
    "    \n",
    "    qc = QuantumCircuit(2, 2) # the first parameter is the size of the quantum register, the second is the size of the classical register\n",
    "    # TODO: Add what Bob has to do to decode Alice's message\n",
    "    qc.cx(control_qubit=1, target_qubit=0)\n",
    "    qc.h(1)\n",
    "    qc.barrier()\n",
    "    qc.measure([0, 1], [0, 1]) # maps the measurement results of q0 and q1 on classical bit b0 and b1, respectively\n",
    "\n",
    "    return qc\n",
    "\n",
    "def create_superdense_circuit(message: str) -> QuantumCircuit:\n",
    "    \"\"\" \n",
    "    Assembles the superdense coding circuit.\n",
    "    q0 = Bob's qubit\n",
    "    q1 = Alice's qubit\n",
    "    \"\"\"\n",
    "    alice_qubit = QuantumRegister(1, 'Alice')\n",
    "    bob_qubit = QuantumRegister(1, 'Bob')\n",
    "    alice_bit = ClassicalRegister(1, 'Alice_msrnt')\n",
    "    bob_bit = ClassicalRegister(1, 'Bob_msrnt')\n",
    "\n",
    "    qc = QuantumCircuit(bob_qubit, alice_qubit, bob_bit, alice_bit)\n",
    "    \n",
    "    # Use the QuantumCircuit function .append(circuit.to_instruction(), [list of qubit indices where to append circuit], [list of classical bits indices])\n",
    "    # TODO\n",
    "\n",
    "    # Prepare a pair of entangled qubits \n",
    "    entangled = prepare_entangled_qubits()\n",
    "    qc.append(entangled.to_instruction(), [bob_qubit[0], alice_qubit[0]])\n",
    "    qc.barrier()\n",
    "    \n",
    "    # Alice receives her entangled qubit and encodes a message\n",
    "    encoded = alice_encodes_her_qubit(message)\n",
    "    qc.append(encoded.to_instruction(), [alice_qubit[0]])\n",
    "    qc.barrier()\n",
    "\n",
    "    # Alice sends her encoded qubit to Bob who received his entangled qubit.\n",
    "    # He proceeds to decode Alice's message\n",
    "    decode = bob_decodes_the_message()\n",
    "    qc.append(decode.to_instruction(), [bob_qubit[0], alice_qubit[0]], [bob_bit[0], alice_bit[0]])\n",
    "\n",
    "    return qc"
   ],
   "outputs": [],
   "execution_count": 4
  },
  {
   "cell_type": "code",
   "metadata": {
    "ExecuteTime": {
     "end_time": "2025-06-20T13:17:55.562649Z",
     "start_time": "2025-06-20T13:17:55.531441Z"
    }
   },
   "source": [
    "qc = create_superdense_circuit(\"00\")\n",
    "# You can check the configuration of the circuit you built\n",
    "qc.decompose().draw()"
   ],
   "outputs": [
    {
     "data": {
      "text/plain": [
       "                    ┌───┐ ░  ░ ┌───┐      ░ ┌─┐   \n",
       "          Bob: ─────┤ X ├─░──░─┤ X ├──────░─┤M├───\n",
       "               ┌───┐└─┬─┘ ░  ░ └─┬─┘┌───┐ ░ └╥┘┌─┐\n",
       "        Alice: ┤ H ├──■───░──░───■──┤ H ├─░──╫─┤M├\n",
       "               └───┘      ░  ░      └───┘ ░  ║ └╥┘\n",
       "  Bob_msrnt: 1/══════════════════════════════╩══╬═\n",
       "                                             0  ║ \n",
       "Alice_msrnt: 1/═════════════════════════════════╩═\n",
       "                                                0 "
      ],
      "text/html": [
       "<pre style=\"word-wrap: normal;white-space: pre;background: #fff0;line-height: 1.1;font-family: &quot;Courier New&quot;,Courier,monospace\">                    ┌───┐ ░  ░ ┌───┐      ░ ┌─┐   \n",
       "          Bob: ─────┤ X ├─░──░─┤ X ├──────░─┤M├───\n",
       "               ┌───┐└─┬─┘ ░  ░ └─┬─┘┌───┐ ░ └╥┘┌─┐\n",
       "        Alice: ┤ H ├──■───░──░───■──┤ H ├─░──╫─┤M├\n",
       "               └───┘      ░  ░      └───┘ ░  ║ └╥┘\n",
       "  Bob_msrnt: 1/══════════════════════════════╩══╬═\n",
       "                                             0  ║ \n",
       "Alice_msrnt: 1/═════════════════════════════════╩═\n",
       "                                                0 </pre>"
      ]
     },
     "execution_count": 8,
     "metadata": {},
     "output_type": "execute_result"
    }
   ],
   "execution_count": 8
  },
  {
   "metadata": {
    "ExecuteTime": {
     "end_time": "2025-06-20T13:18:03.589161Z",
     "start_time": "2025-06-20T13:18:03.576096Z"
    }
   },
   "cell_type": "code",
   "source": [
    "qc = create_superdense_circuit(\"01\")\n",
    "# You can check the configuration of the circuit you built\n",
    "qc.decompose().draw()"
   ],
   "outputs": [
    {
     "data": {
      "text/plain": [
       "                    ┌───┐ ░       ░ ┌───┐      ░ ┌─┐   \n",
       "          Bob: ─────┤ X ├─░───────░─┤ X ├──────░─┤M├───\n",
       "               ┌───┐└─┬─┘ ░ ┌───┐ ░ └─┬─┘┌───┐ ░ └╥┘┌─┐\n",
       "        Alice: ┤ H ├──■───░─┤ X ├─░───■──┤ H ├─░──╫─┤M├\n",
       "               └───┘      ░ └───┘ ░      └───┘ ░  ║ └╥┘\n",
       "  Bob_msrnt: 1/═══════════════════════════════════╩══╬═\n",
       "                                                  0  ║ \n",
       "Alice_msrnt: 1/══════════════════════════════════════╩═\n",
       "                                                     0 "
      ],
      "text/html": [
       "<pre style=\"word-wrap: normal;white-space: pre;background: #fff0;line-height: 1.1;font-family: &quot;Courier New&quot;,Courier,monospace\">                    ┌───┐ ░       ░ ┌───┐      ░ ┌─┐   \n",
       "          Bob: ─────┤ X ├─░───────░─┤ X ├──────░─┤M├───\n",
       "               ┌───┐└─┬─┘ ░ ┌───┐ ░ └─┬─┘┌───┐ ░ └╥┘┌─┐\n",
       "        Alice: ┤ H ├──■───░─┤ X ├─░───■──┤ H ├─░──╫─┤M├\n",
       "               └───┘      ░ └───┘ ░      └───┘ ░  ║ └╥┘\n",
       "  Bob_msrnt: 1/═══════════════════════════════════╩══╬═\n",
       "                                                  0  ║ \n",
       "Alice_msrnt: 1/══════════════════════════════════════╩═\n",
       "                                                     0 </pre>"
      ]
     },
     "execution_count": 9,
     "metadata": {},
     "output_type": "execute_result"
    }
   ],
   "execution_count": 9
  },
  {
   "metadata": {
    "ExecuteTime": {
     "end_time": "2025-06-20T13:18:08.261652Z",
     "start_time": "2025-06-20T13:18:08.252562Z"
    }
   },
   "cell_type": "code",
   "source": [
    "qc = create_superdense_circuit(\"10\")\n",
    "# You can check the configuration of the circuit you built\n",
    "qc.decompose().draw()"
   ],
   "outputs": [
    {
     "data": {
      "text/plain": [
       "                    ┌───┐ ░       ░ ┌───┐      ░ ┌─┐   \n",
       "          Bob: ─────┤ X ├─░───────░─┤ X ├──────░─┤M├───\n",
       "               ┌───┐└─┬─┘ ░ ┌───┐ ░ └─┬─┘┌───┐ ░ └╥┘┌─┐\n",
       "        Alice: ┤ H ├──■───░─┤ Z ├─░───■──┤ H ├─░──╫─┤M├\n",
       "               └───┘      ░ └───┘ ░      └───┘ ░  ║ └╥┘\n",
       "  Bob_msrnt: 1/═══════════════════════════════════╩══╬═\n",
       "                                                  0  ║ \n",
       "Alice_msrnt: 1/══════════════════════════════════════╩═\n",
       "                                                     0 "
      ],
      "text/html": [
       "<pre style=\"word-wrap: normal;white-space: pre;background: #fff0;line-height: 1.1;font-family: &quot;Courier New&quot;,Courier,monospace\">                    ┌───┐ ░       ░ ┌───┐      ░ ┌─┐   \n",
       "          Bob: ─────┤ X ├─░───────░─┤ X ├──────░─┤M├───\n",
       "               ┌───┐└─┬─┘ ░ ┌───┐ ░ └─┬─┘┌───┐ ░ └╥┘┌─┐\n",
       "        Alice: ┤ H ├──■───░─┤ Z ├─░───■──┤ H ├─░──╫─┤M├\n",
       "               └───┘      ░ └───┘ ░      └───┘ ░  ║ └╥┘\n",
       "  Bob_msrnt: 1/═══════════════════════════════════╩══╬═\n",
       "                                                  0  ║ \n",
       "Alice_msrnt: 1/══════════════════════════════════════╩═\n",
       "                                                     0 </pre>"
      ]
     },
     "execution_count": 10,
     "metadata": {},
     "output_type": "execute_result"
    }
   ],
   "execution_count": 10
  },
  {
   "metadata": {
    "ExecuteTime": {
     "end_time": "2025-06-20T13:18:15.476660Z",
     "start_time": "2025-06-20T13:18:15.467528Z"
    }
   },
   "cell_type": "code",
   "source": [
    "qc = create_superdense_circuit(\"11\")\n",
    "# You can check the configuration of the circuit you built\n",
    "qc.decompose().draw()"
   ],
   "outputs": [
    {
     "data": {
      "text/plain": [
       "                    ┌───┐ ░            ░ ┌───┐      ░ ┌─┐   \n",
       "          Bob: ─────┤ X ├─░────────────░─┤ X ├──────░─┤M├───\n",
       "               ┌───┐└─┬─┘ ░ ┌───┐┌───┐ ░ └─┬─┘┌───┐ ░ └╥┘┌─┐\n",
       "        Alice: ┤ H ├──■───░─┤ X ├┤ Z ├─░───■──┤ H ├─░──╫─┤M├\n",
       "               └───┘      ░ └───┘└───┘ ░      └───┘ ░  ║ └╥┘\n",
       "  Bob_msrnt: 1/════════════════════════════════════════╩══╬═\n",
       "                                                       0  ║ \n",
       "Alice_msrnt: 1/═══════════════════════════════════════════╩═\n",
       "                                                          0 "
      ],
      "text/html": [
       "<pre style=\"word-wrap: normal;white-space: pre;background: #fff0;line-height: 1.1;font-family: &quot;Courier New&quot;,Courier,monospace\">                    ┌───┐ ░            ░ ┌───┐      ░ ┌─┐   \n",
       "          Bob: ─────┤ X ├─░────────────░─┤ X ├──────░─┤M├───\n",
       "               ┌───┐└─┬─┘ ░ ┌───┐┌───┐ ░ └─┬─┘┌───┐ ░ └╥┘┌─┐\n",
       "        Alice: ┤ H ├──■───░─┤ X ├┤ Z ├─░───■──┤ H ├─░──╫─┤M├\n",
       "               └───┘      ░ └───┘└───┘ ░      └───┘ ░  ║ └╥┘\n",
       "  Bob_msrnt: 1/════════════════════════════════════════╩══╬═\n",
       "                                                       0  ║ \n",
       "Alice_msrnt: 1/═══════════════════════════════════════════╩═\n",
       "                                                          0 </pre>"
      ]
     },
     "execution_count": 11,
     "metadata": {},
     "output_type": "execute_result"
    }
   ],
   "execution_count": 11
  },
  {
   "cell_type": "code",
   "metadata": {
    "ExecuteTime": {
     "end_time": "2025-06-20T13:18:24.358027Z",
     "start_time": "2025-06-20T13:18:24.352123Z"
    }
   },
   "source": [
    "def check_superdense_protocol(protocol: QuantumCircuit, simulator: BasicSimulator) -> dict[str, str]:\n",
    "    \"\"\" \n",
    "    Runs the superdense coding protocol for all possible messages, and check if the messages are decoded correctly\n",
    "    \"\"\"\n",
    "    messages = {\"00\":None, \"01\": None, \"10\": None, \"11\": None}\n",
    "\n",
    "    for message in messages.keys():\n",
    "        qc = transpile(protocol(message), simulator)\n",
    "        result = simulator.run(qc).result()\n",
    "        counts = result.get_counts()\n",
    "        messages[message] = max(counts, key=counts.get)\n",
    "    \n",
    "    return messages"
   ],
   "outputs": [],
   "execution_count": 12
  },
  {
   "cell_type": "code",
   "metadata": {
    "ExecuteTime": {
     "end_time": "2025-06-20T13:18:24.997753Z",
     "start_time": "2025-06-20T13:18:24.959022Z"
    }
   },
   "source": [
    "simulator = BasicSimulator()\n",
    "\n",
    "messages = check_superdense_protocol(create_superdense_circuit, simulator)\n",
    "\n",
    "# Verify the protocol works\n",
    "for k, v in messages.items():\n",
    "    print(\"Message was {0}. Decoded message is {1}\".format(k,v))"
   ],
   "outputs": [
    {
     "name": "stdout",
     "output_type": "stream",
     "text": [
      "Message was 00. Decoded message is 0 0\n",
      "Message was 01. Decoded message is 0 1\n",
      "Message was 10. Decoded message is 1 0\n",
      "Message was 11. Decoded message is 1 1\n"
     ]
    }
   ],
   "execution_count": 13
  },
  {
   "cell_type": "markdown",
   "metadata": {},
   "source": [
    "### Evaluation\n",
    "- Show that you are able to decode all the messages by showing a mentor the output of the previous cell\n",
    "\n",
    "- Show a mentor the circuit using \"qc.decompose().draw()\" for all messages"
   ]
  },
  {
   "cell_type": "markdown",
   "metadata": {},
   "source": [
    "## Superdense coding on a real quantum computer"
   ]
  },
  {
   "cell_type": "markdown",
   "metadata": {},
   "source": [
    "### Retrieve your IBM token\n",
    "You should already have created a Pinq2 and IBM account using the same email address.\n",
    "\n",
    "1. Go to [Pinq2 website](https://www.pinq2.com/)\n",
    "\n",
    "2. Enter your account credentials\n",
    "\n",
    "3. Click on \"Plateform Quantum Computing\", this will redirect you to the \"IBM Quantum Platform\" dashboard where you can monitor the jobs you will send for execution on real quantum hardware.\n",
    "\n",
    "4. Your API token will be on the top right corner, copy it and use it in the following coding cell"
   ]
  },
  {
   "cell_type": "code",
   "execution_count": 8,
   "metadata": {
    "ExecuteTime": {
     "end_time": "2025-05-29T18:59:29.712918Z",
     "start_time": "2025-05-29T18:59:29.460767Z"
    }
   },
   "outputs": [
    {
     "ename": "InvalidAccountError",
     "evalue": "'Invalid `instance` value. Expected hub/group/project format, got INSTANCE_PATH'",
     "output_type": "error",
     "traceback": [
      "\u001B[31m---------------------------------------------------------------------------\u001B[39m",
      "\u001B[31mValueError\u001B[39m                                Traceback (most recent call last)",
      "\u001B[36mFile \u001B[39m\u001B[32m~/codefest2025/lib/python3.11/site-packages/qiskit_ibm_runtime/utils/hgp.py:32\u001B[39m, in \u001B[36mfrom_instance_format\u001B[39m\u001B[34m(instance)\u001B[39m\n\u001B[32m     31\u001B[39m \u001B[38;5;28;01mtry\u001B[39;00m:\n\u001B[32m---> \u001B[39m\u001B[32m32\u001B[39m     hub, group, project = instance.split(\u001B[33m\"\u001B[39m\u001B[33m/\u001B[39m\u001B[33m\"\u001B[39m)\n\u001B[32m     33\u001B[39m     \u001B[38;5;28;01mreturn\u001B[39;00m hub, group, project\n",
      "\u001B[31mValueError\u001B[39m: not enough values to unpack (expected 3, got 1)",
      "\nDuring handling of the above exception, another exception occurred:\n",
      "\u001B[31mIBMInputValueError\u001B[39m                        Traceback (most recent call last)",
      "\u001B[36mFile \u001B[39m\u001B[32m~/codefest2025/lib/python3.11/site-packages/qiskit_ibm_runtime/accounts/account.py:258\u001B[39m, in \u001B[36mQuantumAccount._assert_valid_instance\u001B[39m\u001B[34m(instance)\u001B[39m\n\u001B[32m    257\u001B[39m \u001B[38;5;28;01mtry\u001B[39;00m:\n\u001B[32m--> \u001B[39m\u001B[32m258\u001B[39m     \u001B[43mfrom_instance_format\u001B[49m\u001B[43m(\u001B[49m\u001B[43minstance\u001B[49m\u001B[43m)\u001B[49m\n\u001B[32m    259\u001B[39m \u001B[38;5;28;01mexcept\u001B[39;00m:\n",
      "\u001B[36mFile \u001B[39m\u001B[32m~/codefest2025/lib/python3.11/site-packages/qiskit_ibm_runtime/utils/hgp.py:35\u001B[39m, in \u001B[36mfrom_instance_format\u001B[39m\u001B[34m(instance)\u001B[39m\n\u001B[32m     34\u001B[39m \u001B[38;5;28;01mexcept\u001B[39;00m (\u001B[38;5;167;01mValueError\u001B[39;00m, \u001B[38;5;167;01mAttributeError\u001B[39;00m):\n\u001B[32m---> \u001B[39m\u001B[32m35\u001B[39m     \u001B[38;5;28;01mraise\u001B[39;00m IBMInputValueError(\n\u001B[32m     36\u001B[39m         \u001B[33mf\u001B[39m\u001B[33m\"\u001B[39m\u001B[33mInput instance value \u001B[39m\u001B[38;5;132;01m{\u001B[39;00minstance\u001B[38;5;132;01m}\u001B[39;00m\u001B[33m is not in the\u001B[39m\u001B[33m\"\u001B[39m \u001B[33mf\u001B[39m\u001B[33m\"\u001B[39m\u001B[33mcorrect hub/group/project format.\u001B[39m\u001B[33m\"\u001B[39m\n\u001B[32m     37\u001B[39m     )\n",
      "\u001B[31mIBMInputValueError\u001B[39m: 'Input instance value INSTANCE_PATH is not in thecorrect hub/group/project format.'",
      "\nDuring handling of the above exception, another exception occurred:\n",
      "\u001B[31mInvalidAccountError\u001B[39m                       Traceback (most recent call last)",
      "\u001B[36mCell\u001B[39m\u001B[36m \u001B[39m\u001B[32mIn[8]\u001B[39m\u001B[32m, line 9\u001B[39m\n\u001B[32m      6\u001B[39m instance = \u001B[33m'\u001B[39m\u001B[33mINSTANCE_PATH\u001B[39m\u001B[33m'\u001B[39m\n\u001B[32m      8\u001B[39m \u001B[38;5;66;03m# Instanciate a session for using IBM quantum hardware\u001B[39;00m\n\u001B[32m----> \u001B[39m\u001B[32m9\u001B[39m service = \u001B[43mQiskitRuntimeService\u001B[49m\u001B[43m(\u001B[49m\u001B[43mchannel\u001B[49m\u001B[43m=\u001B[49m\u001B[33;43m\"\u001B[39;49m\u001B[33;43mibm_quantum\u001B[39;49m\u001B[33;43m\"\u001B[39;49m\u001B[43m,\u001B[49m\u001B[43m \u001B[49m\u001B[43minstance\u001B[49m\u001B[43m=\u001B[49m\u001B[43minstance\u001B[49m\u001B[43m,\u001B[49m\u001B[43m \u001B[49m\u001B[43mtoken\u001B[49m\u001B[43m=\u001B[49m\u001B[43mtoken\u001B[49m\u001B[43m)\u001B[49m\n",
      "\u001B[36mFile \u001B[39m\u001B[32m~/codefest2025/lib/python3.11/site-packages/qiskit_ibm_runtime/qiskit_runtime_service.py:144\u001B[39m, in \u001B[36mQiskitRuntimeService.__init__\u001B[39m\u001B[34m(self, channel, token, url, filename, name, instance, proxies, verify, channel_strategy, private_endpoint, url_resolver)\u001B[39m\n\u001B[32m    130\u001B[39m \u001B[38;5;28;01mif\u001B[39;00m channel_strategy:\n\u001B[32m    131\u001B[39m     warnings.warn(\n\u001B[32m    132\u001B[39m         (\n\u001B[32m    133\u001B[39m             \u001B[33m\"\u001B[39m\u001B[33mAs of qiskit-ibm-runtime version 0.30.0, the channel_strategy parameter is \u001B[39m\u001B[33m\"\u001B[39m\n\u001B[32m   (...)\u001B[39m\u001B[32m    141\u001B[39m         stacklevel=\u001B[32m2\u001B[39m,\n\u001B[32m    142\u001B[39m     )\n\u001B[32m--> \u001B[39m\u001B[32m144\u001B[39m \u001B[38;5;28mself\u001B[39m._account = \u001B[38;5;28;43mself\u001B[39;49m\u001B[43m.\u001B[49m\u001B[43m_discover_account\u001B[49m\u001B[43m(\u001B[49m\n\u001B[32m    145\u001B[39m \u001B[43m    \u001B[49m\u001B[43mtoken\u001B[49m\u001B[43m=\u001B[49m\u001B[43mtoken\u001B[49m\u001B[43m,\u001B[49m\n\u001B[32m    146\u001B[39m \u001B[43m    \u001B[49m\u001B[43murl\u001B[49m\u001B[43m=\u001B[49m\u001B[43murl\u001B[49m\u001B[43m,\u001B[49m\n\u001B[32m    147\u001B[39m \u001B[43m    \u001B[49m\u001B[43minstance\u001B[49m\u001B[43m=\u001B[49m\u001B[43minstance\u001B[49m\u001B[43m,\u001B[49m\n\u001B[32m    148\u001B[39m \u001B[43m    \u001B[49m\u001B[43mchannel\u001B[49m\u001B[43m=\u001B[49m\u001B[43mchannel\u001B[49m\u001B[43m,\u001B[49m\n\u001B[32m    149\u001B[39m \u001B[43m    \u001B[49m\u001B[43mfilename\u001B[49m\u001B[43m=\u001B[49m\u001B[43mfilename\u001B[49m\u001B[43m,\u001B[49m\n\u001B[32m    150\u001B[39m \u001B[43m    \u001B[49m\u001B[43mname\u001B[49m\u001B[43m=\u001B[49m\u001B[43mname\u001B[49m\u001B[43m,\u001B[49m\n\u001B[32m    151\u001B[39m \u001B[43m    \u001B[49m\u001B[43mproxies\u001B[49m\u001B[43m=\u001B[49m\u001B[43mProxyConfiguration\u001B[49m\u001B[43m(\u001B[49m\u001B[43m*\u001B[49m\u001B[43m*\u001B[49m\u001B[43mproxies\u001B[49m\u001B[43m)\u001B[49m\u001B[43m \u001B[49m\u001B[38;5;28;43;01mif\u001B[39;49;00m\u001B[43m \u001B[49m\u001B[43mproxies\u001B[49m\u001B[43m \u001B[49m\u001B[38;5;28;43;01melse\u001B[39;49;00m\u001B[43m \u001B[49m\u001B[38;5;28;43;01mNone\u001B[39;49;00m\u001B[43m,\u001B[49m\n\u001B[32m    152\u001B[39m \u001B[43m    \u001B[49m\u001B[43mverify\u001B[49m\u001B[43m=\u001B[49m\u001B[43mverify\u001B[49m\u001B[43m,\u001B[49m\n\u001B[32m    153\u001B[39m \u001B[43m    \u001B[49m\u001B[43mchannel_strategy\u001B[49m\u001B[43m=\u001B[49m\u001B[43mchannel_strategy\u001B[49m\u001B[43m,\u001B[49m\n\u001B[32m    154\u001B[39m \u001B[43m\u001B[49m\u001B[43m)\u001B[49m\n\u001B[32m    156\u001B[39m \u001B[38;5;28;01mif\u001B[39;00m private_endpoint \u001B[38;5;129;01mis\u001B[39;00m \u001B[38;5;129;01mnot\u001B[39;00m \u001B[38;5;28;01mNone\u001B[39;00m:\n\u001B[32m    157\u001B[39m     \u001B[38;5;28mself\u001B[39m._account.private_endpoint = private_endpoint\n",
      "\u001B[36mFile \u001B[39m\u001B[32m~/codefest2025/lib/python3.11/site-packages/qiskit_ibm_runtime/qiskit_runtime_service.py:280\u001B[39m, in \u001B[36mQiskitRuntimeService._discover_account\u001B[39m\u001B[34m(self, token, url, instance, channel, filename, name, proxies, verify, channel_strategy)\u001B[39m\n\u001B[32m    277\u001B[39m \u001B[38;5;28mself\u001B[39m._resolve_crn(account)\n\u001B[32m    279\u001B[39m \u001B[38;5;66;03m# ensure account is valid, fail early if not\u001B[39;00m\n\u001B[32m--> \u001B[39m\u001B[32m280\u001B[39m \u001B[43maccount\u001B[49m\u001B[43m.\u001B[49m\u001B[43mvalidate\u001B[49m\u001B[43m(\u001B[49m\u001B[43m)\u001B[49m\n\u001B[32m    282\u001B[39m \u001B[38;5;28;01mreturn\u001B[39;00m account\n",
      "\u001B[36mFile \u001B[39m\u001B[32m~/codefest2025/lib/python3.11/site-packages/qiskit_ibm_runtime/accounts/account.py:168\u001B[39m, in \u001B[36mAccount.validate\u001B[39m\u001B[34m(self)\u001B[39m\n\u001B[32m    166\u001B[39m \u001B[38;5;28mself\u001B[39m._assert_valid_token(\u001B[38;5;28mself\u001B[39m.token)\n\u001B[32m    167\u001B[39m \u001B[38;5;28mself\u001B[39m._assert_valid_url(\u001B[38;5;28mself\u001B[39m.url)\n\u001B[32m--> \u001B[39m\u001B[32m168\u001B[39m \u001B[38;5;28;43mself\u001B[39;49m\u001B[43m.\u001B[49m\u001B[43m_assert_valid_instance\u001B[49m\u001B[43m(\u001B[49m\u001B[38;5;28;43mself\u001B[39;49m\u001B[43m.\u001B[49m\u001B[43minstance\u001B[49m\u001B[43m)\u001B[49m\n\u001B[32m    169\u001B[39m \u001B[38;5;28mself\u001B[39m._assert_valid_proxies(\u001B[38;5;28mself\u001B[39m.proxies)\n\u001B[32m    170\u001B[39m \u001B[38;5;28mself\u001B[39m._assert_valid_channel_strategy(\u001B[38;5;28mself\u001B[39m.channel_strategy)\n",
      "\u001B[36mFile \u001B[39m\u001B[32m~/codefest2025/lib/python3.11/site-packages/qiskit_ibm_runtime/accounts/account.py:260\u001B[39m, in \u001B[36mQuantumAccount._assert_valid_instance\u001B[39m\u001B[34m(instance)\u001B[39m\n\u001B[32m    258\u001B[39m     from_instance_format(instance)\n\u001B[32m    259\u001B[39m \u001B[38;5;28;01mexcept\u001B[39;00m:\n\u001B[32m--> \u001B[39m\u001B[32m260\u001B[39m     \u001B[38;5;28;01mraise\u001B[39;00m InvalidAccountError(\n\u001B[32m    261\u001B[39m         \u001B[33mf\u001B[39m\u001B[33m\"\u001B[39m\u001B[33mInvalid `instance` value. Expected hub/group/project format, got \u001B[39m\u001B[38;5;132;01m{\u001B[39;00minstance\u001B[38;5;132;01m}\u001B[39;00m\u001B[33m\"\u001B[39m\n\u001B[32m    262\u001B[39m     )\n",
      "\u001B[31mInvalidAccountError\u001B[39m: 'Invalid `instance` value. Expected hub/group/project format, got INSTANCE_PATH'"
     ]
    }
   ],
   "source": [
    "from qiskit_ibm_runtime import QiskitRuntimeService, SamplerV2 as Sampler\n",
    "from qiskit.transpiler import generate_preset_pass_manager\n",
    " \n",
    " # Get your IBM token and write it here\n",
    "token = \"<IBM_TOKEN>\"\n",
    "instance = 'INSTANCE_PATH'\n",
    "\n",
    "# Instanciate a session for using IBM quantum hardware\n",
    "service = QiskitRuntimeService(channel=\"ibm_quantum\", instance=instance, token=token)"
   ]
  },
  {
   "cell_type": "code",
   "execution_count": null,
   "metadata": {},
   "outputs": [],
   "source": [
    "\"\"\"\" \n",
    "Use IBM quantum computer\n",
    "\"\"\"\n",
    "\n",
    "# Check for the least busy backend (i.e. quantum processor) and select it\n",
    "backend = service.least_busy(operational=True, simulator=False)\n",
    "print(\"Running experiment on backend: {}\".format(backend.name))\n",
    "\n",
    "# Instanciate the circuit to be run on the quantum computer\n",
    "# and its various parameters, as well as experiment parameters\n",
    "#TODO: Try different messages and #shots\n",
    "shots = 500 # Add the number of times you want to run the experiment to gather statistics\n",
    "message = \"10\" \n",
    "sampler = Sampler(backend)\n",
    "qc = create_superdense_circuit(message)\n",
    "\n",
    "# The native quantum gates implemented on a quantum processor may vary between different backends.\n",
    "# The preset manager is a tool that transpiles the circuit, that is, it will convert the circuit into instructions\n",
    "# that can run on the specified quantum computer, given its native quantum gate set.\n",
    "pm = generate_preset_pass_manager(backend=backend, optimization_level=1) # You can try different optimization_level!\n",
    "isa_circuit = pm.run(qc)\n",
    "\n",
    "# Send the circuit to implement on the quantum computer\n",
    "# It might take a while for the job to complete (several minutes to hours if the traffic is heavy)\n",
    "# You can go to the job dashboard on a browser to check the status of your job.\n",
    "job = sampler.run([isa_circuit], shots=shots).result()"
   ]
  },
  {
   "cell_type": "code",
   "execution_count": null,
   "metadata": {},
   "outputs": [],
   "source": [
    "\"\"\" Post-processing of the results \"\"\"\n",
    "\n",
    "# Extract the measurement results of Bob's qubit and Alice's\n",
    "# and plot the count statistics, just like we did with the simulator!\n",
    "pub_result = job[0]\n",
    "joint_counts = pub_result.join_data().get_counts()\n",
    "plot_histogram(joint_counts)\n"
   ]
  },
  {
   "cell_type": "code",
   "execution_count": null,
   "metadata": {},
   "outputs": [],
   "source": [
    "print(\"The message was '{0}' and the decoded message is '{1}'.\".format(message, max(joint_counts, key=joint_counts.get)))"
   ]
  },
  {
   "cell_type": "code",
   "execution_count": null,
   "metadata": {},
   "outputs": [],
   "source": [
    "\"\"\" Analysis \n",
    "Try the superdense coding protocol for every possible message using a real quantum computer.\n",
    "How do your results on the quantum computer compare to the ones you found using the simulator in this notebook?\n",
    "\"\"\""
   ]
  },
  {
   "cell_type": "code",
   "execution_count": null,
   "metadata": {},
   "outputs": [],
   "source": [
    "# If you want to take a look at what the transpiled teleportation circuit\n",
    "# looks like after transpilation on the backend you used, run this cell\n",
    "# The output may be quite big depending on the number of qubits available on \n",
    "# the specific backend that used\n",
    "isa_circuit.draw()"
   ]
  },
  {
   "cell_type": "markdown",
   "metadata": {},
   "source": [
    "# Quantum teleportation\n",
    "\n",
    "## Presentation\n",
    "Quantum teleportation is a method that enables the transmission of quantum information from one location to another, by making use of a single classical information channel, granted a pair of two entangled qubits was shared beforehand between the transmitter and receiver.\n",
    "\n",
    "## Protocol\n",
    "Imagine that Alice and Bob are two quantum developpers.\n",
    "\n",
    "Knowing that Bob will be away on the International Space Station for the next couple of months, Alice and Bob decides to share a few numbers of pairs of entangled qubits in case they need to communicate during Bob's space outing.\n",
    "\n",
    "One day, Alice generates an interesting quantum state that she would like to share with Bob. She decides to use the following steps to teleport it on board of the ISS:\n",
    "\n",
    "### 1. Alice performs a Bell measurement on her qubit and the qubit to teleport\n",
    "A Bell measurement is a transformation that maps the 4 Bell states to the 2-qubit basis states, namely $|00\\rangle, |01\\rangle, |10\\rangle$ and $|11\\rangle$.\n",
    "\n",
    "In terms of circuit instructions, Alice needs to apply a CNOT on the qubit she wants to teleport using her own qubit as control. Then, she needs to apply a Hadamard gate to the qubit to teleport.\n",
    "<br>\n",
    "(You have already seen a Bell measurement during the superdense coding protocol!).\n",
    "\n",
    "Next, Alice performs a measurement on her own qubit and another one on the qubit she wants to teleport to Bob.\n",
    "\n",
    "Finally, Alice sends both measurement results to Bob using a classical communication channel, say over the radio.\n",
    "\n",
    "### 2. Bob recreates the quantum state on his qubit using Alice's measurement results\n",
    "After reception of Alice's measurement results, Bob applies the following correction to his qubit.<br> If Alice's result is :\n",
    "- $b_{A}b_{|\\phi\\rangle}=00$, Bob doesn't need to do anything\n",
    "- $b_{A}b_{|\\phi\\rangle}=01$, Bob needs to apply the Z gate to his qubit\n",
    "- $b_{A}b_{|\\phi\\rangle}=10$, Bob needs to apply the X gate to his qubit\n",
    "- $b_{A}b_{|\\phi\\rangle}=11$, Bob needs to apply the X gate, followed by the Z gate, to his qubit\n",
    "\n",
    "$b_{A}$: Alice's result after measuring her qubit<br>\n",
    "$b_{|\\phi\\rangle}$: the result after measuring the qubit to teleport.\n",
    "\n",
    "\n",
    "## Challenge\n",
    "We ask you to:\n",
    "- Implement the teleportation protocol described above\n",
    "\n",
    "- Show that it works correctly\n",
    "\n",
    "- (Bonus) Implement teleportation on a real quantum computer"
   ]
  },
  {
   "cell_type": "code",
   "execution_count": 9,
   "metadata": {},
   "outputs": [],
   "source": [
    "from qiskit.quantum_info import Statevector\n",
    "from qiskit import QuantumCircuit, ClassicalRegister, QuantumRegister\n",
    "from qiskit_aer import AerSimulator, StatevectorSimulator\n",
    "from qiskit.circuit.library import UGate\n",
    "from qiskit import transpile\n",
    "from qiskit.result import marginal_distribution\n",
    "import numpy.random as random"
   ]
  },
  {
   "cell_type": "code",
   "execution_count": null,
   "metadata": {},
   "outputs": [],
   "source": [
    "def create_state_phi(state: str, params: dict[str, float]) -> QuantumCircuit:\n",
    "    \"\"\" We need to generate a quantum state to teleport.\n",
    "    We will teleport 3 types of quantum states precised by \"state\":\n",
    "    - \"0\": the quantum state |0>\n",
    "    - \"1\": the quantum state |1>\n",
    "    - \"random\": a random quantum state of the form |phi> = a|0> + b|1>\n",
    "    - params: stores the angles \"theta\", \"phi\" and \"lam\" necesseray to build the random quantum state\n",
    "    \"\"\"\n",
    "    qc = QuantumCircuit(1)\n",
    "\n",
    "    if state == \"0\":\n",
    "        # TODO\n",
    "        #...\n",
    "        pass\n",
    "\n",
    "    elif state == \"1\":\n",
    "        # TODO\n",
    "        #...\n",
    "        pass\n",
    "    \n",
    "    elif state == \"random\":\n",
    "        # Create a random quantum state by using the general quantum gate U from qiskit\n",
    "\n",
    "        #TODO: create the random gate \n",
    "        #...\n",
    "        pass\n",
    "\n",
    "    return qc\n",
    "\n",
    "def prepare_entangled_qubits() -> QuantumCircuit:\n",
    "    \"\"\" Creates an entangled pair of qubits. \n",
    "    q0 = Alice's qubit\n",
    "    q1 = Bob's qubit\n",
    "    \"\"\"\n",
    "    \n",
    "    qc = QuantumCircuit(2)\n",
    "    # TODO\n",
    "    #...\n",
    "\n",
    "    return qc\n",
    "\n",
    "def alice_performs_a_bell_measurement() -> QuantumCircuit:\n",
    "    \"\"\"\n",
    "    Alice performs a Bell measurement on her qubit and the qubit to teleport.\n",
    "    q0 = state |phi>\n",
    "    q1 = Alice's qubit\n",
    "    \"\"\"\n",
    "    qc = QuantumCircuit(2, 2)\n",
    "    # TODO\n",
    "    #...\n",
    "    qc.barrier()\n",
    "    qc.measure([0, 1], [0, 1])\n",
    "    \n",
    "    return qc\n",
    "\n",
    "def bob_corrects_his_qubit() -> QuantumCircuit:\n",
    "    \"\"\"\n",
    "    Bob corrects his qubit depending on the result of Alice's measurements.\n",
    "    - If Alice qubit is in the state |1> after measurement, he needs to apply Z\n",
    "    - If the qubit to teleport is in the state |1> after measurement, he needs to apply X\n",
    "    q0 = qubit to teleport\n",
    "    q1 = Alice\n",
    "    q2 = Bob\n",
    "    \"\"\"\n",
    "    qc = QuantumCircuit(3)\n",
    "    # TODO\n",
    "    #...\n",
    "\n",
    "    return qc\n",
    "\n",
    "def build_teleportation_circuit(state: str, params) -> QuantumCircuit:\n",
    "    \"\"\"\" \n",
    "    Assembles all the quantum circuits to build the teleportation circuit.\n",
    "    state = string precising which state to teleport \"0\", \"1\" or \"random\"\n",
    "    q0 = qubit to teleport\n",
    "    q1 = Alice\n",
    "    q2 = Bob\n",
    "    \"\"\"\n",
    "    tele_qubit = QuantumRegister(1, 'qubit X')\n",
    "    alice_qubit = QuantumRegister(1, 'Alice')\n",
    "    bob_qubit = QuantumRegister(1, 'Bob')\n",
    "    alice_bit = ClassicalRegister(1, 'Alice_msrnt')\n",
    "    tele_bit = ClassicalRegister(1, 'X_msrnt')\n",
    "    bob_bit = ClassicalRegister(1, 'Bob_msrnt')\n",
    "\n",
    "    qc = QuantumCircuit(tele_qubit, alice_qubit, bob_qubit, tele_bit, alice_bit, bob_bit)\n",
    "\n",
    "    # Use the QuantumCircuit function .append(circuit.to_instruction(), [list of qubit indices where to append circuit], [list of classical bits indices])\n",
    "\n",
    "    # Create the teleported state |phi>\n",
    "    # TODO\n",
    "    #...\n",
    "    qc.barrier()\n",
    "\n",
    "    # Prepare the entangled qubits\n",
    "    # TODO\n",
    "    #...\n",
    "    qc.barrier()\n",
    "\n",
    "    # Alice performs the bell measurements\n",
    "    # TODO\n",
    "    #...\n",
    "    qc.barrier()\n",
    "\n",
    "    # Bob receives the information from Alice and performs the necessary corrections on his qubit\n",
    "    # TODO\n",
    "    #...\n",
    "    qc.barrier()\n",
    "\n",
    "    # Apply inverse of the teleported state to check if the protocol was successful!\n",
    "    # If it is a success, you should read |0> after applying the inverse of the teleported qubit on Bob's qubit after he applied the corrections.\n",
    "    # TODO\n",
    "    #...\n",
    "\n",
    "    # Measure Bob's qubit and store it's value in a classical bit\n",
    "    qc.measure([2], [2])\n",
    "\n",
    "    return qc\n"
   ]
  },
  {
   "cell_type": "code",
   "execution_count": null,
   "metadata": {},
   "outputs": [],
   "source": [
    "# You can check the configuration of the circuit you built\n",
    "state_to_teleport = \"0\"\n",
    "params = {} # can be used to implement the \"random\" state\n",
    "circuit = build_teleportation_circuit(state_to_teleport, params)\n",
    "circuit.decompose().draw()\n"
   ]
  },
  {
   "cell_type": "code",
   "execution_count": null,
   "metadata": {},
   "outputs": [],
   "source": [
    "# Run the teleportation circuit\n",
    "shots = 1000\n",
    "simulator = AerSimulator()\n",
    "state = \"0\"\n",
    "params = {}\n",
    "# # TODO: To build the random quantum state, you need to sample randomly the three parameters of the UGate, qiskit's most general gate.\n",
    "# state = \"random\"\n",
    "# random_params = {\"theta\": None,\n",
    "#                  \"phi\": None,\n",
    "#                  \"lam\": None}\n",
    "\n",
    "qc = build_teleportation_circuit(state, params)\n",
    "\n",
    "qc = transpile(qc, simulator)\n",
    "\n",
    "result = simulator.run(qc, shots=shots).result()\n",
    "\n",
    "counts = result.get_counts()\n",
    "\n",
    "# Count statistics, q2 should give the same result everytime \"0\" or \"1\" depending on which state was teleported\n",
    "# Except when the random quantum state is teleported!\n",
    "# plot_histogram(counts)\n",
    "\n",
    "# Here we only look at the result qubit at the end of the teleportation circuit\n",
    "# If it's 0, the teleportation was a success!\n",
    "filtered_statistics = marginal_distribution(counts, [2])\n",
    "display(plot_histogram(filtered_statistics))"
   ]
  },
  {
   "cell_type": "markdown",
   "metadata": {},
   "source": [
    "### Evaluation\n",
    "- Show a mentor the output histogram of the teleportation circuit when teleporting a \"random\" quantum state\n",
    "\n",
    "- Show a mentor the circuit for the states \"0\", \"1\" and \"random\" using \"qc.decompose().draw()\""
   ]
  },
  {
   "cell_type": "markdown",
   "metadata": {},
   "source": [
    "## Teleportation on a real quantum computer"
   ]
  },
  {
   "cell_type": "markdown",
   "metadata": {},
   "source": [
    "### Retrieve your IBM token (if not already done in the superdense coding section)\n",
    "You should already have created a Pinq2 and IBM account using the same email address.\n",
    "\n",
    "1. Go to [Pinq2 website](https://www.pinq2.com/)\n",
    "\n",
    "2. Enter your account credentials\n",
    "\n",
    "3. Click on \"Plateform Quantum Computing\", this will redirect you to the \"IBM Quantum Platform\" dashboard where you can monitor the jobs you will send for execution on real quantum hardware.\n",
    "\n",
    "4. Your API token will be on the top right corner, copy it and use it in the following coding cell"
   ]
  },
  {
   "cell_type": "code",
   "execution_count": null,
   "metadata": {},
   "outputs": [],
   "source": [
    "\"\"\" If you have already instanciated a service instance by giving your IBM token during the superdense coding section:\n",
    "        pass\n",
    "Else:\n",
    "    uncomment and run this cell\n",
    "\"\"\"\n",
    "\n",
    "# from qiskit_ibm_runtime import QiskitRuntimeService, SamplerV2 as Sampler\n",
    "# from qiskit.transpiler import generate_preset_pass_manager\n",
    "# # Get your IBM token and write it here\n",
    "# token = \"<YOUR_IBM_TOKEN>\"\n",
    "# instance = '<THE_CORRECT_INSTANCE_PATH>'\n",
    "\n",
    "# # Instanciate a session for using IBM quantum hardware\n",
    "# service = QiskitRuntimeService(channel=\"ibm_quantum\", instance=instance, token=token)"
   ]
  },
  {
   "cell_type": "code",
   "execution_count": null,
   "metadata": {},
   "outputs": [],
   "source": [
    "\"\"\"\" \n",
    "Use IBM quantum computer\n",
    "\"\"\"\n",
    "# Check for the least busy backend (i.e. quantum processor) and select it\n",
    "backend = service.least_busy(operational=True, simulator=False)\n",
    "print(\"Running experiment on backend: {}\".format(backend.name))\n",
    "\n",
    "# Instanciate the circuit to be run on the quantum computer\n",
    "# and its various parameters, as well as experiment parameters\n",
    "shots = 500 # Add the number of times you want to run the experiment to gather statistics\n",
    "qstate_to_teleport = \"random\"\n",
    "random_params = {None} #TODO: teleport the random state!\n",
    "\n",
    "sampler = Sampler(backend)\n",
    "\n",
    "qc = build_teleportation_circuit(qstate_to_teleport, params) # Choose a startin\n",
    "\n",
    "# The native quantum gates implemented on a quantum processor may vary between different backends.\n",
    "# The preset manager is a tool that transpiles the circuit, that is, it will convert the circuit into instructions\n",
    "# that can run on the specified quantum computer, given its native quantum gate set.\n",
    "pm = generate_preset_pass_manager(backend=backend, optimization_level=1) # You can try different optimization_level!\n",
    "isa_circuit = pm.run(qc)\n",
    "\n",
    "# Send the circuit to implement on the quantum computer\n",
    "# It might take a while for the job to complete (several minutes to hours if the traffic is heavy)\n",
    "# You can go to the job dashboard on a browser to check the status of your job.\n",
    "job = sampler.run([isa_circuit], shots=shots).result()"
   ]
  },
  {
   "cell_type": "code",
   "execution_count": null,
   "metadata": {},
   "outputs": [],
   "source": [
    "\"\"\" Post-processing of the results \"\"\"\n",
    "\n",
    "# Extract the measurement results of Bob's qubit\n",
    "# and plot the count statistics, just like we did with the simulator!\n",
    "pub_result = job[0]\n",
    "joint_counts = pub_result.join_data().get_counts()\n",
    "filtered_statistics = marginal_distribution(joint_counts, [2])\n",
    "display(plot_histogram(filtered_statistics))"
   ]
  },
  {
   "cell_type": "code",
   "execution_count": null,
   "metadata": {},
   "outputs": [],
   "source": [
    "\"\"\" Analysis\n",
    "How do your results on the quantum computer compare to the ones you found using the simulator in this notebook?\n",
    "Try the same experiment for different states.\n",
    "\"\"\""
   ]
  },
  {
   "cell_type": "code",
   "execution_count": null,
   "metadata": {},
   "outputs": [],
   "source": [
    "# If you want to take a look at what the transpiled teleportation circuit\n",
    "# looks like after transpilation on the backend you used, run this cell\n",
    "# The output may be quite big depending on the number of qubits available on \n",
    "# the specific backend that used\n",
    "isa_circuit.draw()"
   ]
  }
 ],
 "metadata": {
  "kernelspec": {
   "display_name": "qiskit2",
   "language": "python",
   "name": "python3"
  },
  "language_info": {
   "codemirror_mode": {
    "name": "ipython",
    "version": 3
   },
   "file_extension": ".py",
   "mimetype": "text/x-python",
   "name": "python",
   "nbconvert_exporter": "python",
   "pygments_lexer": "ipython3",
   "version": "3.12.2"
  }
 },
 "nbformat": 4,
 "nbformat_minor": 2
}
