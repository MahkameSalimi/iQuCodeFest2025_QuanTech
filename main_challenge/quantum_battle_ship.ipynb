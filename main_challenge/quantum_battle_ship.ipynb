{
 "cells": [
  {
   "cell_type": "code",
   "id": "initial_id",
   "metadata": {
    "collapsed": true,
    "ExecuteTime": {
     "end_time": "2025-06-20T00:24:45.340192Z",
     "start_time": "2025-06-20T00:24:40.899005Z"
    }
   },
   "source": [
    "# Visualization of the problem graph\n",
    "import matplotlib.pyplot as plt\n",
    "import networkx as nx\n",
    "\n",
    "# Matricial computation and calssical optimization\n",
    "import numpy as np\n",
    "from scipy.optimize import minimize\n",
    "\n",
    "# Creation of quantum circuits\n",
    "from qiskit import QuantumCircuit\n",
    "\n",
    "# Structure used to build Hamiltonians\n",
    "from qiskit.quantum_info import SparsePauliOp\n",
    "\n",
    "# Method used to create QAOA circuits to optimize\n",
    "from qiskit.circuit.library import QAOAAnsatz\n",
    "\n",
    "# Tools used for the execution of quantum circuits\n",
    "from qiskit_ibm_runtime import QiskitRuntimeService\n",
    "from qiskit_ibm_runtime import EstimatorV2 as Estimator\n",
    "from qiskit_ibm_runtime import SamplerV2 as Sampler\n",
    "\n",
    "# Transpilation of quantum circuits on IBM's simulators and quantum computers\n",
    "from qiskit.transpiler.preset_passmanagers import generate_preset_pass_manager\n",
    "\n",
    "# Quantum computer simulator\n",
    "from qiskit_aer import AerSimulator\n",
    "\n",
    "# Simulators of existing quantum computers\n",
    "from qiskit_ibm_runtime.fake_provider import FakeNairobiV2  # , FakeQuebec\n",
    "\n",
    "# Visualization of probablity distributions\n",
    "from qiskit.visualization import plot_histogram"
   ],
   "outputs": [],
   "execution_count": 1
  },
  {
   "metadata": {
    "ExecuteTime": {
     "end_time": "2025-06-20T00:25:52.560990Z",
     "start_time": "2025-06-20T00:25:52.416912Z"
    }
   },
   "cell_type": "code",
   "source": [
    "import numpy as np\n",
    "from qiskit import QuantumCircuit\n",
    "from qiskit.extensions import Initialize      # Qiskit < 1.0\n",
    "# → in Qiskit ≥ 1.0 use:  from qiskit.circuit.library import Initialize\n",
    "\n",
    "def prep_gate(statevector: np.ndarray, label: str = \"prep\"):\n",
    "    \"\"\"\n",
    "    Return an n-qubit gate that prepares |statevector>.\n",
    "    `statevector` is a 1-D complex numpy array of length 2**n.\n",
    "    \"\"\"\n",
    "    n = int(np.log2(len(statevector)))\n",
    "    circ = QuantumCircuit(n)\n",
    "    circ.append(Initialize(statevector), range(n))\n",
    "    return circ.to_gate(label=label)\n"
   ],
   "id": "df99c69e05e8b89a",
   "outputs": [
    {
     "ename": "ModuleNotFoundError",
     "evalue": "No module named 'qiskit.extensions'",
     "output_type": "error",
     "traceback": [
      "\u001B[31m---------------------------------------------------------------------------\u001B[39m",
      "\u001B[31mModuleNotFoundError\u001B[39m                       Traceback (most recent call last)",
      "\u001B[36mCell\u001B[39m\u001B[36m \u001B[39m\u001B[32mIn[3]\u001B[39m\u001B[32m, line 3\u001B[39m\n\u001B[32m      1\u001B[39m \u001B[38;5;28;01mimport\u001B[39;00m\u001B[38;5;250m \u001B[39m\u001B[34;01mnumpy\u001B[39;00m\u001B[38;5;250m \u001B[39m\u001B[38;5;28;01mas\u001B[39;00m\u001B[38;5;250m \u001B[39m\u001B[34;01mnp\u001B[39;00m\n\u001B[32m      2\u001B[39m \u001B[38;5;28;01mfrom\u001B[39;00m\u001B[38;5;250m \u001B[39m\u001B[34;01mqiskit\u001B[39;00m\u001B[38;5;250m \u001B[39m\u001B[38;5;28;01mimport\u001B[39;00m QuantumCircuit\n\u001B[32m----> \u001B[39m\u001B[32m3\u001B[39m \u001B[38;5;28;01mfrom\u001B[39;00m\u001B[38;5;250m \u001B[39m\u001B[34;01mqiskit\u001B[39;00m\u001B[34;01m.\u001B[39;00m\u001B[34;01mextensions\u001B[39;00m\u001B[38;5;250m \u001B[39m\u001B[38;5;28;01mimport\u001B[39;00m Initialize      \u001B[38;5;66;03m# Qiskit < 1.0\u001B[39;00m\n\u001B[32m      4\u001B[39m \u001B[38;5;66;03m# → in Qiskit ≥ 1.0 use:  from qiskit.circuit.library import Initialize\u001B[39;00m\n\u001B[32m      6\u001B[39m \u001B[38;5;28;01mdef\u001B[39;00m\u001B[38;5;250m \u001B[39m\u001B[34mprep_gate\u001B[39m(statevector: np.ndarray, label: \u001B[38;5;28mstr\u001B[39m = \u001B[33m\"\u001B[39m\u001B[33mprep\u001B[39m\u001B[33m\"\u001B[39m):\n",
      "\u001B[31mModuleNotFoundError\u001B[39m: No module named 'qiskit.extensions'"
     ]
    }
   ],
   "execution_count": 3
  },
  {
   "metadata": {
    "ExecuteTime": {
     "end_time": "2025-06-20T00:24:49.842316Z",
     "start_time": "2025-06-20T00:24:49.049994Z"
    }
   },
   "cell_type": "code",
   "source": [
    "# Qiskit example skeleton (n-qubit register q, 1-qubit ancilla a)\n",
    "from qiskit import QuantumCircuit\n",
    "from math import acos\n",
    "\n",
    "n = 3                     # number of data qubits\n",
    "theta = acos(0.8)         # |alpha| = 0.8 → alpha≈0.8, beta≈0.6\n",
    "qc = QuantumCircuit(n+1)  # last qubit is ancilla\n",
    "\n",
    "# data register indices 0..n-1, ancilla index n\n",
    "a = n\n",
    "\n",
    "# 1. prepare ancilla with desired amplitudes\n",
    "qc.ry(2*theta, a)         # gives alpha|0>+beta|1>\n",
    "\n",
    "# 2. controlled preparation of |psi>\n",
    "qc.append(U_psi,  list(range(n)) + [])           .c_if(qc.creg, 0) # pseudo-code\n",
    "# 3. controlled preparation of |phi>\n",
    "qc.append(U_phi.control(), [a] + list(range(n)))\n",
    "\n",
    "# circuit now carries the superposition on qubits 0..n-1\n"
   ],
   "id": "1bf0042ec8f7868a",
   "outputs": [
    {
     "ename": "NameError",
     "evalue": "name 'U_psi' is not defined",
     "output_type": "error",
     "traceback": [
      "\u001B[31m---------------------------------------------------------------------------\u001B[39m",
      "\u001B[31mNameError\u001B[39m                                 Traceback (most recent call last)",
      "\u001B[36mCell\u001B[39m\u001B[36m \u001B[39m\u001B[32mIn[2]\u001B[39m\u001B[32m, line 16\u001B[39m\n\u001B[32m     13\u001B[39m qc.ry(\u001B[32m2\u001B[39m*theta, a)         \u001B[38;5;66;03m# gives alpha|0>+beta|1>\u001B[39;00m\n\u001B[32m     15\u001B[39m \u001B[38;5;66;03m# 2. controlled preparation of |psi>\u001B[39;00m\n\u001B[32m---> \u001B[39m\u001B[32m16\u001B[39m qc.append(\u001B[43mU_psi\u001B[49m,  \u001B[38;5;28mlist\u001B[39m(\u001B[38;5;28mrange\u001B[39m(n)) + [])           .c_if(qc.creg, \u001B[32m0\u001B[39m) \u001B[38;5;66;03m# pseudo-code\u001B[39;00m\n\u001B[32m     17\u001B[39m \u001B[38;5;66;03m# 3. controlled preparation of |phi>\u001B[39;00m\n\u001B[32m     18\u001B[39m qc.append(U_phi.control(), [a] + \u001B[38;5;28mlist\u001B[39m(\u001B[38;5;28mrange\u001B[39m(n)))\n",
      "\u001B[31mNameError\u001B[39m: name 'U_psi' is not defined"
     ]
    }
   ],
   "execution_count": 2
  },
  {
   "metadata": {},
   "cell_type": "code",
   "outputs": [],
   "execution_count": null,
   "source": "",
   "id": "37c0f058ac03b9a8"
  }
 ],
 "metadata": {
  "kernelspec": {
   "display_name": "Python 3",
   "language": "python",
   "name": "python3"
  },
  "language_info": {
   "codemirror_mode": {
    "name": "ipython",
    "version": 2
   },
   "file_extension": ".py",
   "mimetype": "text/x-python",
   "name": "python",
   "nbconvert_exporter": "python",
   "pygments_lexer": "ipython2",
   "version": "2.7.6"
  }
 },
 "nbformat": 4,
 "nbformat_minor": 5
}
